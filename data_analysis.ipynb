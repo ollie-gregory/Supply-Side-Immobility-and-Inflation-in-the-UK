{
 "cells": [
  {
   "cell_type": "markdown",
   "metadata": {},
   "source": [
    "# IMF Data analysis"
   ]
  },
  {
   "cell_type": "code",
   "execution_count": 21,
   "metadata": {},
   "outputs": [],
   "source": [
    "import pandas as pd"
   ]
  },
  {
   "cell_type": "code",
   "execution_count": 22,
   "metadata": {},
   "outputs": [],
   "source": [
    "# Read in the data\n",
    "\n",
    "df = pd.read_excel(\"./IMF_data.xlsx\", skiprows=2)\n",
    "df[0:0] = \"Quarter\""
   ]
  },
  {
   "cell_type": "code",
   "execution_count": 23,
   "metadata": {},
   "outputs": [
    {
     "data": {
      "text/html": [
       "<div>\n",
       "<style scoped>\n",
       "    .dataframe tbody tr th:only-of-type {\n",
       "        vertical-align: middle;\n",
       "    }\n",
       "\n",
       "    .dataframe tbody tr th {\n",
       "        vertical-align: top;\n",
       "    }\n",
       "\n",
       "    .dataframe thead th {\n",
       "        text-align: right;\n",
       "    }\n",
       "</style>\n",
       "<table border=\"1\" class=\"dataframe\">\n",
       "  <thead>\n",
       "    <tr style=\"text-align: right;\">\n",
       "      <th></th>\n",
       "      <th>Quarter</th>\n",
       "      <th>Economic Activity, Industrial Production, Index</th>\n",
       "      <th>Labor Markets, Employment, Persons, Number of</th>\n",
       "      <th>Labor Markets, Employment, Index</th>\n",
       "      <th>Labor Markets, Unemployment Rate, Percent</th>\n",
       "      <th>Prices, Consumer Price Index, All items, Index</th>\n",
       "      <th>Prices, Import Price Index, All Commodities, Index</th>\n",
       "      <th>Prices, Producer Price Index, All Commodities, Index</th>\n",
       "    </tr>\n",
       "  </thead>\n",
       "  <tbody>\n",
       "    <tr>\n",
       "      <th>0</th>\n",
       "      <td>Q1 2014</td>\n",
       "      <td>100.228707</td>\n",
       "      <td>30365.9</td>\n",
       "      <td>104.263196</td>\n",
       "      <td>6.7</td>\n",
       "      <td>109.894581</td>\n",
       "      <td>105.642531</td>\n",
       "      <td>107.587615</td>\n",
       "    </tr>\n",
       "    <tr>\n",
       "      <th>1</th>\n",
       "      <td>Q2 2014</td>\n",
       "      <td>97.008508</td>\n",
       "      <td>30551.3</td>\n",
       "      <td>104.899779</td>\n",
       "      <td>6.166667</td>\n",
       "      <td>110.597374</td>\n",
       "      <td>104.761905</td>\n",
       "      <td>106.464784</td>\n",
       "    </tr>\n",
       "    <tr>\n",
       "      <th>2</th>\n",
       "      <td>Q3 2014</td>\n",
       "      <td>95.581374</td>\n",
       "      <td>30830.0</td>\n",
       "      <td>105.856712</td>\n",
       "      <td>6.166667</td>\n",
       "      <td>110.782319</td>\n",
       "      <td>103.94651</td>\n",
       "      <td>105.444029</td>\n",
       "    </tr>\n",
       "    <tr>\n",
       "      <th>3</th>\n",
       "      <td>Q4 2014</td>\n",
       "      <td>101.472875</td>\n",
       "      <td>30931.1</td>\n",
       "      <td>106.203845</td>\n",
       "      <td>5.533333</td>\n",
       "      <td>110.930276</td>\n",
       "      <td>102.772342</td>\n",
       "      <td>105.307928</td>\n",
       "    </tr>\n",
       "    <tr>\n",
       "      <th>4</th>\n",
       "      <td>Q1 2015</td>\n",
       "      <td>105.754277</td>\n",
       "      <td>31003.7</td>\n",
       "      <td>106.453122</td>\n",
       "      <td>5.466667</td>\n",
       "      <td>110.33845</td>\n",
       "      <td>99.347684</td>\n",
       "      <td>104.287173</td>\n",
       "    </tr>\n",
       "  </tbody>\n",
       "</table>\n",
       "</div>"
      ],
      "text/plain": [
       "   Quarter Economic Activity, Industrial Production, Index  \\\n",
       "0  Q1 2014                                      100.228707   \n",
       "1  Q2 2014                                       97.008508   \n",
       "2  Q3 2014                                       95.581374   \n",
       "3  Q4 2014                                      101.472875   \n",
       "4  Q1 2015                                      105.754277   \n",
       "\n",
       "  Labor Markets, Employment, Persons, Number of  \\\n",
       "0                                       30365.9   \n",
       "1                                       30551.3   \n",
       "2                                       30830.0   \n",
       "3                                       30931.1   \n",
       "4                                       31003.7   \n",
       "\n",
       "  Labor Markets, Employment, Index Labor Markets, Unemployment Rate, Percent  \\\n",
       "0                       104.263196                                       6.7   \n",
       "1                       104.899779                                  6.166667   \n",
       "2                       105.856712                                  6.166667   \n",
       "3                       106.203845                                  5.533333   \n",
       "4                       106.453122                                  5.466667   \n",
       "\n",
       "  Prices, Consumer Price Index, All items, Index  \\\n",
       "0                                     109.894581   \n",
       "1                                     110.597374   \n",
       "2                                     110.782319   \n",
       "3                                     110.930276   \n",
       "4                                      110.33845   \n",
       "\n",
       "  Prices, Import Price Index, All Commodities, Index  \\\n",
       "0                                         105.642531   \n",
       "1                                         104.761905   \n",
       "2                                          103.94651   \n",
       "3                                         102.772342   \n",
       "4                                          99.347684   \n",
       "\n",
       "  Prices, Producer Price Index, All Commodities, Index  \n",
       "0                                         107.587615    \n",
       "1                                         106.464784    \n",
       "2                                         105.444029    \n",
       "3                                         105.307928    \n",
       "4                                         104.287173    "
      ]
     },
     "execution_count": 23,
     "metadata": {},
     "output_type": "execute_result"
    }
   ],
   "source": [
    "# View the head() to get an idea of the structure of the data\n",
    "df.head()"
   ]
  },
  {
   "cell_type": "code",
   "execution_count": 37,
   "metadata": {},
   "outputs": [
    {
     "data": {
      "text/plain": [
       "([<matplotlib.axis.XTick at 0x7fac037a7160>,\n",
       "  <matplotlib.axis.XTick at 0x7fac037a7130>,\n",
       "  <matplotlib.axis.XTick at 0x7fac037c67c0>,\n",
       "  <matplotlib.axis.XTick at 0x7fac31c74ca0>],\n",
       " [Text(0.0, 0, 'Q1 2014'),\n",
       "  Text(12.0, 0, 'Q1 2017'),\n",
       "  Text(24.0, 0, 'Q1 2020'),\n",
       "  Text(36.0, 0, 'Q1 2023')])"
      ]
     },
     "execution_count": 37,
     "metadata": {},
     "output_type": "execute_result"
    },
    {
     "data": {
      "image/png": "[encoded data removed]",
      "text/plain": [
       "<Figure size 640x480 with 1 Axes>"
      ]
     },
     "metadata": {},
     "output_type": "display_data"
    }
   ],
   "source": [
    "# Plot CPI data\n",
    "import seaborn as sns\n",
    "import matplotlib.pyplot as plt\n",
    "\n",
    "sns.set_theme(style=\"darkgrid\")\n",
    "sns.lineplot(data=df, x=\"Quarter\", y=\"Prices, Consumer Price Index, All items, Index\")\n",
    "\n",
    "plt.xticks(df['Quarter'][::12])"
   ]
  },
  {
   "cell_type": "code",
   "execution_count": null,
   "metadata": {},
   "outputs": [],
   "source": []
  }
 ],
 "metadata": {
  "kernelspec": {
   "display_name": "base",
   "language": "python",
   "name": "python3"
  },
  "language_info": {
   "codemirror_mode": {
    "name": "ipython",
    "version": 3
   },
   "file_extension": ".py",
   "mimetype": "text/x-python",
   "name": "python",
   "nbconvert_exporter": "python",
   "pygments_lexer": "ipython3",
   "version": "3.9.13"
  }
 },
 "nbformat": 4,
 "nbformat_minor": 2
}
