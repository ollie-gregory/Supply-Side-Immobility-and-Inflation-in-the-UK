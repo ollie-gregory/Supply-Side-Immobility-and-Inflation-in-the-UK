{
 "cells": [
  {
   "cell_type": "markdown",
   "metadata": {},
   "source": [
    "# Supply Chain Disruptions 📅\n",
    "**Factors to consider:**\n",
    "- Producer Price Index\n",
    "- Inventory levels\n",
    "- Transportation costs (TEG road transport index)\n",
    "- Import and export data\n",
    "- Business Surveys"
   ]
  },
  {
   "cell_type": "markdown",
   "metadata": {},
   "source": [
    "**Producer price index**"
   ]
  },
  {
   "cell_type": "code",
   "execution_count": null,
   "metadata": {
    "vscode": {
     "languageId": "plaintext"
    }
   },
   "outputs": [],
   "source": []
  },
  {
   "cell_type": "markdown",
   "metadata": {},
   "source": [
    "# Resource Constraints 👮🏻‍♂️\n",
    "**Factors to consider:**\n",
    "- Labor Market Indicators\n",
    "- Commodity Prices\n",
    "- Capacity Utilisation Rates\n",
    "- Natural Resource Availability\n",
    "- Investment Spending"
   ]
  },
  {
   "cell_type": "markdown",
   "metadata": {},
   "source": [
    "# Government Policy 👨🏻‍⚖️\n",
    "**Factors to consider:**\n",
    "- Fiscal Policy Indicators\n",
    "- Regulatory Environment\n",
    "- Subsidies and Incentives\n",
    "- Policy Uncertainty"
   ]
  },
  {
   "cell_type": "markdown",
   "metadata": {},
   "source": [
    "# Technological changes 📠\n",
    "**Factors to consider:**\n",
    "- Research and Development (R&D) Spending\n",
    "- Patent Data\n",
    "- Productivity Measures\n",
    "- Adoption of New Technologies"
   ]
  },
  {
   "cell_type": "markdown",
   "metadata": {},
   "source": [
    "# Global Economic Trends 📈\n",
    "**Factors to consider**\n",
    "- Trade Indicators\n",
    "- Exchange Rates\n",
    "- Global Commodity Prices\n",
    "- Global Economic Sentiment"
   ]
  },
  {
   "cell_type": "markdown",
   "metadata": {},
   "source": [
    "# Demand side factors to consider 📊\n",
    "- Consumer Confidence\n",
    "- Consumer Spending\n",
    "- Household Income and Wealth\n",
    "- Interest Rates\n",
    "- Government Spending\n",
    "- Monetary Policy\n",
    "- Investment Spending\n",
    "- Population Growth\n",
    "- Credit Conditions\n",
    "- Exchange Rates"
   ]
  }
 ],
 "metadata": {
  "kernelspec": {
   "display_name": "base",
   "language": "python",
   "name": "python3"
  },
  "language_info": {
   "codemirror_mode": {
    "name": "ipython",
    "version": 3
   },
   "file_extension": ".py",
   "mimetype": "text/x-python",
   "name": "python",
   "nbconvert_exporter": "python",
   "pygments_lexer": "ipython3",
   "version": "3.9.13"
  }
 },
 "nbformat": 4,
 "nbformat_minor": 2
}
