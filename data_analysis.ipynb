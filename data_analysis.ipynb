{
 "cells": [
  {
   "cell_type": "markdown",
   "metadata": {},
   "source": [
    "# Data Analysis 📊"
   ]
  },
  {
   "cell_type": "code",
   "execution_count": 2,
   "metadata": {},
   "outputs": [],
   "source": [
    "# import relevant modules\n",
    "import pandas as pd\n",
    "import matplotlib.pyplot as plt"
   ]
  },
  {
   "cell_type": "markdown",
   "metadata": {},
   "source": [
    "# Supply Chain Disruptions 📅\n",
    "**Factors to consider:**\n",
    "- Producer Price Index\n",
    "- Inventory levels\n",
    "- Transportation costs (TEG road transport index)\n",
    "- Import and export data\n",
    "- Business Surveys"
   ]
  },
  {
   "cell_type": "markdown",
   "metadata": {},
   "source": [
    "**Read in the data**"
   ]
  },
  {
   "cell_type": "code",
   "execution_count": 3,
   "metadata": {},
   "outputs": [],
   "source": [
    "PPI_df = pd.read_csv(\"./SUPPLY_SIDE_DATA/cleaned_data/PPI_df\")\n",
    "BCM_df = pd.read_csv(\"./SUPPLY_SIDE_DATA/cleaned_data/BCM_df\")\n",
    "BOP_df = pd.read_csv(\"./SUPPLY_SIDE_DATA/cleaned_data/BOP_df\")\n",
    "inv_lev_df = pd.read_csv(\"./SUPPLY_SIDE_DATA/cleaned_data/inv_lev_df\")\n",
    "TEG_index_df = pd.read_csv(\"./SUPPLY_SIDE_DATA/cleaned_data/TEG_index_df\")"
   ]
  },
  {
   "cell_type": "markdown",
   "metadata": {},
   "source": [
    "### Producer Price Index"
   ]
  },
  {
   "cell_type": "code",
   "execution_count": 4,
   "metadata": {},
   "outputs": [
    {
     "data": {
      "text/html": [
       "<div>\n",
       "<style scoped>\n",
       "    .dataframe tbody tr th:only-of-type {\n",
       "        vertical-align: middle;\n",
       "    }\n",
       "\n",
       "    .dataframe tbody tr th {\n",
       "        vertical-align: top;\n",
       "    }\n",
       "\n",
       "    .dataframe thead th {\n",
       "        text-align: right;\n",
       "    }\n",
       "</style>\n",
       "<table border=\"1\" class=\"dataframe\">\n",
       "  <thead>\n",
       "    <tr style=\"text-align: right;\">\n",
       "      <th></th>\n",
       "      <th>Month</th>\n",
       "      <th>PPI Index</th>\n",
       "    </tr>\n",
       "  </thead>\n",
       "  <tbody>\n",
       "    <tr>\n",
       "      <th>0</th>\n",
       "      <td>2008-12</td>\n",
       "      <td>91.3</td>\n",
       "    </tr>\n",
       "    <tr>\n",
       "      <th>1</th>\n",
       "      <td>2009-01</td>\n",
       "      <td>92.0</td>\n",
       "    </tr>\n",
       "    <tr>\n",
       "      <th>2</th>\n",
       "      <td>2009-02</td>\n",
       "      <td>91.9</td>\n",
       "    </tr>\n",
       "    <tr>\n",
       "      <th>3</th>\n",
       "      <td>2009-03</td>\n",
       "      <td>92.7</td>\n",
       "    </tr>\n",
       "    <tr>\n",
       "      <th>4</th>\n",
       "      <td>2009-04</td>\n",
       "      <td>92.1</td>\n",
       "    </tr>\n",
       "  </tbody>\n",
       "</table>\n",
       "</div>"
      ],
      "text/plain": [
       "     Month  PPI Index\n",
       "0  2008-12       91.3\n",
       "1  2009-01       92.0\n",
       "2  2009-02       91.9\n",
       "3  2009-03       92.7\n",
       "4  2009-04       92.1"
      ]
     },
     "execution_count": 4,
     "metadata": {},
     "output_type": "execute_result"
    }
   ],
   "source": [
    "# View data format\n",
    "PPI_df.head()"
   ]
  },
  {
   "cell_type": "code",
   "execution_count": null,
   "metadata": {},
   "outputs": [],
   "source": []
  },
  {
   "cell_type": "markdown",
   "metadata": {},
   "source": [
    "# Resource Constraints 👮🏻‍♂️\n",
    "**Factors to consider:**\n",
    "- Labor Market Indicators\n",
    "- Commodity Prices\n",
    "- Capacity Utilisation Rates\n",
    "- Natural Resource Availability\n",
    "- Investment Spending"
   ]
  },
  {
   "cell_type": "markdown",
   "metadata": {},
   "source": [
    "# Government Policy 👨🏻‍⚖️\n",
    "**Factors to consider:**\n",
    "- Fiscal Policy Indicators\n",
    "- Regulatory Environment\n",
    "- Subsidies and Incentives\n",
    "- Policy Uncertainty"
   ]
  },
  {
   "cell_type": "markdown",
   "metadata": {},
   "source": [
    "# Technological changes 📠\n",
    "**Factors to consider:**\n",
    "- Research and Development (R&D) Spending\n",
    "- Patent Data\n",
    "- Productivity Measures\n",
    "- Adoption of New Technologies"
   ]
  },
  {
   "cell_type": "markdown",
   "metadata": {},
   "source": [
    "# Global Economic Trends 📈\n",
    "**Factors to consider**\n",
    "- Trade Indicators\n",
    "- Exchange Rates\n",
    "- Global Commodity Prices\n",
    "- Global Economic Sentiment"
   ]
  },
  {
   "cell_type": "markdown",
   "metadata": {},
   "source": [
    "# Demand side factors to consider 📊\n",
    "- Consumer Confidence\n",
    "- Consumer Spending\n",
    "- Household Income and Wealth\n",
    "- Interest Rates\n",
    "- Government Spending\n",
    "- Monetary Policy\n",
    "- Investment Spending\n",
    "- Population Growth\n",
    "- Credit Conditions\n",
    "- Exchange Rates"
   ]
  }
 ],
 "metadata": {
  "kernelspec": {
   "display_name": "base",
   "language": "python",
   "name": "python3"
  },
  "language_info": {
   "codemirror_mode": {
    "name": "ipython",
    "version": 3
   },
   "file_extension": ".py",
   "mimetype": "text/x-python",
   "name": "python",
   "nbconvert_exporter": "python",
   "pygments_lexer": "ipython3",
   "version": "3.9.13"
  }
 },
 "nbformat": 4,
 "nbformat_minor": 2
}
