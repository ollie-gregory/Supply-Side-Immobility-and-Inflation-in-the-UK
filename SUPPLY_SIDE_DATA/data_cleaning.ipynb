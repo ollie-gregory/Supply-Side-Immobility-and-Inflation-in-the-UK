{
 "cells": [
  {
   "cell_type": "code",
   "execution_count": 8,
   "metadata": {},
   "outputs": [],
   "source": [
    "import pandas as pd"
   ]
  },
  {
   "cell_type": "code",
   "execution_count": 36,
   "metadata": {},
   "outputs": [],
   "source": [
    "PPI_df = pd.read_csv(\"./raw_data/supply_chain_disruptions/PPI_index_2015.csv\")\n",
    "PPI_df.drop(PPI_df.index[0:82], inplace=True)\n",
    "PPI_df.reset_index(drop=True, inplace=True)\n",
    "PPI_df.columns = [\"Month\", \"PPI Index\"]\n",
    "PPI_df[\"Month\"] = pd.to_datetime(PPI_df[\"Month\"])\n",
    "PPI_df[\"Month\"] = PPI_df[\"Month\"].dt.to_period('M')\n",
    "PPI_df.head()\n",
    "\n",
    "PPI_df.to_csv(\"./cleaned_data/PPI_df\", index=False)"
   ]
  },
  {
   "cell_type": "code",
   "execution_count": 35,
   "metadata": {},
   "outputs": [],
   "source": [
    "exports_df = pd.read_csv(\"./raw_data/supply_chain_disruptions/Exports.csv\")\n",
    "exports_df.drop(exports_df.index[0:357], inplace=True)\n",
    "exports_df.reset_index(drop=True, inplace=True)\n",
    "exports_df.columns = [\"Month\", \"Exports £m\"]\n",
    "\n",
    "imports_df = pd.read_csv(\"./raw_data/supply_chain_disruptions/Imports.csv\")\n",
    "imports_df.drop(imports_df.index[0:357], inplace=True)\n",
    "imports_df.reset_index(drop=True, inplace=True)\n",
    "imports_df.columns = [\"Month\", \"Imports £m\"]\n",
    "\n",
    "\n",
    "trade_balance_df = pd.read_csv(\"./raw_data/supply_chain_disruptions/Trade_Balance.csv\")\n",
    "trade_balance_df.drop(trade_balance_df.index[0:357], inplace=True)\n",
    "trade_balance_df.reset_index(drop=True, inplace=True)\n",
    "trade_balance_df.columns = [\"Month\", \"Trade Balance £m\"]\n",
    "\n",
    "BOP_df = pd.concat([exports_df.set_index('Month'), imports_df.set_index('Month'), trade_balance_df.set_index('Month')], axis=1)\n",
    "BOP_df.reset_index(inplace=True)\n",
    "\n",
    "BOP_df[\"Month\"] = pd.to_datetime(BOP_df[\"Month\"])\n",
    "BOP_df[\"Month\"] = BOP_df[\"Month\"].dt.to_period('M')\n",
    "\n",
    "BOP_df.head()\n",
    "\n",
    "BOP_df.to_csv(\"./cleaned_data/BOP_df\", index=False)"
   ]
  },
  {
   "cell_type": "code",
   "execution_count": 37,
   "metadata": {},
   "outputs": [],
   "source": [
    "BCM_df = pd.read_csv(\"./raw_data/supply_chain_disruptions/BCM_data.csv\")\n",
    "BCM_df.drop(BCM_df.index[0], inplace=True)\n",
    "BCM_df.reset_index(drop=True, inplace=True)\n",
    "BCM_df.columns = [\"Quarter\", \"BCM Index\"]\n",
    "BCM_df.head()\n",
    "\n",
    "BCM_df.to_csv(\"./cleaned_data/BCM_df\", index=False)"
   ]
  },
  {
   "cell_type": "code",
   "execution_count": 38,
   "metadata": {},
   "outputs": [],
   "source": [
    "inv_lev_df = pd.read_excel(\"./raw_data/supply_chain_disruptions/Inventory_levels.xlsx\", sheet_name=\"Level of Inventories CP and KP\")\n",
    "inv_lev_df.columns = [\"Year\", \"Total Inventories £m 2019 prices\"]\n",
    "inv_lev_df.head()\n",
    "\n",
    "inv_lev_df.to_csv(\"./cleaned_data/inv_lev_df\", index=False)"
   ]
  },
  {
   "cell_type": "code",
   "execution_count": 39,
   "metadata": {},
   "outputs": [],
   "source": [
    "TEG_index_df = pd.read_excel(\"./raw_data/supply_chain_disruptions/TEG_market_index.xlsx\")\n",
    "TEG_index_df\n",
    "\n",
    "TEG_index_df.to_csv(\"./cleaned_data/TEG_index_df\", index=False)"
   ]
  }
 ],
 "metadata": {
  "kernelspec": {
   "display_name": "base",
   "language": "python",
   "name": "python3"
  },
  "language_info": {
   "codemirror_mode": {
    "name": "ipython",
    "version": 3
   },
   "file_extension": ".py",
   "mimetype": "text/x-python",
   "name": "python",
   "nbconvert_exporter": "python",
   "pygments_lexer": "ipython3",
   "version": "3.9.13"
  }
 },
 "nbformat": 4,
 "nbformat_minor": 2
}
